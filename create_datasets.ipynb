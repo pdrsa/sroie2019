{
 "cells": [
  {
   "cell_type": "code",
   "execution_count": 1,
   "metadata": {},
   "outputs": [],
   "source": [
    "from utils import image_to_text\n",
    "from utils import read_line_from_json\n",
    "from utils import text_to_tensor\n",
    "from tqdm import tqdm\n",
    "import os\n",
    "import pickle\n",
    "import json"
   ]
  },
  {
   "cell_type": "code",
   "execution_count": 3,
   "metadata": {},
   "outputs": [],
   "source": [
    "train_dataset = []\n",
    "for filename in tqdm(os.listdir('images')):\n",
    "    try:\n",
    "        txt = filename[:-4]+\".txt\"\n",
    "\n",
    "        text              = image_to_text('images/' + filename)\n",
    "        comp, addr, total, date = read_line_from_json(\"truth/\"+filename[:-4]+\".txt\")\n",
    "\n",
    "        fields = [\"text\", \"company\", \"address\", \"total\", \"date\"]\n",
    "        values = [text, comp, addr, total, date]\n",
    "        train_dataset.append(dict(zip(fields, values)))\n",
    "    except:\n",
    "        continue"
   ]
  },
  {
   "cell_type": "code",
   "execution_count": 6,
   "metadata": {},
   "outputs": [],
   "source": [
    "output_file = open(\"datasets/train_dataset.txt\", 'w', encoding='utf-8')\n",
    "for dic in train_dataset:\n",
    "    json.dump(dic, output_file) \n",
    "    output_file.write(\"\\n\")"
   ]
  },
  {
   "cell_type": "code",
   "execution_count": 4,
   "metadata": {},
   "outputs": [],
   "source": [
    "train_dataset = []\n",
    "with open(\"datasets/train_dataset.txt\", \"r\") as file:\n",
    "    for line in file:\n",
    "        train_dataset.append(json.loads(line))"
   ]
  },
  {
   "cell_type": "code",
   "execution_count": 32,
   "metadata": {},
   "outputs": [
    {
     "name": "stdout",
     "output_type": "stream",
     "text": [
      "0 text\n",
      "1 company\n",
      "2 address\n",
      "3 total\n",
      "4 date\n"
     ]
    }
   ],
   "source": [
    "for z, k in enumerate(train_dataset[0].keys()):\n",
    "    print(z, k)"
   ]
  }
 ],
 "metadata": {
  "kernelspec": {
   "display_name": "Python 3",
   "language": "python",
   "name": "python3"
  },
  "language_info": {
   "codemirror_mode": {
    "name": "ipython",
    "version": 3
   },
   "file_extension": ".py",
   "mimetype": "text/x-python",
   "name": "python",
   "nbconvert_exporter": "python",
   "pygments_lexer": "ipython3",
   "version": "3.8.5"
  }
 },
 "nbformat": 4,
 "nbformat_minor": 4
}
