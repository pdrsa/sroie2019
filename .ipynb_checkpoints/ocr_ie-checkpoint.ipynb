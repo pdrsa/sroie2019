{
 "cells": [
  {
   "cell_type": "code",
   "execution_count": 36,
   "metadata": {},
   "outputs": [],
   "source": [
    "from utils import image_to_text\n",
    "import spacy\n",
    "from matplotlib import pyplot as plt\n",
    "from model import Net\n",
    "import torch\n",
    "from dataset import TrainDataset\n",
    "from model import Net\n",
    "from torch.utils.data import DataLoader\n",
    "import torch.optim as optim\n",
    "from tqdm import tqdm"
   ]
  },
  {
   "cell_type": "code",
   "execution_count": 34,
   "metadata": {},
   "outputs": [],
   "source": [
    "device = torch.device('cuda:0')\n",
    "epochs = 10"
   ]
  },
  {
   "cell_type": "code",
   "execution_count": 30,
   "metadata": {},
   "outputs": [],
   "source": [
    "train_dataset = TrainDataset()\n",
    "train_dataloader = DataLoader(train_dataset, batch_size = 1, shuffle=True)"
   ]
  },
  {
   "cell_type": "code",
   "execution_count": 31,
   "metadata": {},
   "outputs": [
    {
     "name": "stdout",
     "output_type": "stream",
     "text": [
      "Building NN...\n"
     ]
    },
    {
     "data": {
      "text/plain": [
       "Net(\n",
       "  (l1): Embedding(71, 128, padding_idx=0)\n",
       "  (l2): LSTM(128, 128, num_layers=2, dropout=0.2, bidirectional=True)\n",
       "  (l3): Flatten(start_dim=1, end_dim=-1)\n",
       "  (l4): Linear(in_features=32768, out_features=5, bias=True)\n",
       ")"
      ]
     },
     "execution_count": 31,
     "metadata": {},
     "output_type": "execute_result"
    }
   ],
   "source": [
    "model = Net(len(train_dataset.VOCAB)).to(device)\n",
    "model.eval()"
   ]
  },
  {
   "cell_type": "code",
   "execution_count": 32,
   "metadata": {},
   "outputs": [],
   "source": [
    "# Optimizer and Loss Function\n",
    "optimizer    = optim.Adam(model.parameters(), lr = 5e-2)\n",
    "lossFunction = torch.nn.CrossEntropyLoss(\n",
    "               weight = torch.tensor([1, 1.2, 0.1, 0.5, 1.5], device = device))\n",
    "scheduler    = optim.lr_scheduler.StepLR(optimizer, 1000)"
   ]
  },
  {
   "cell_type": "code",
   "execution_count": null,
   "metadata": {},
   "outputs": [
    {
     "name": "stderr",
     "output_type": "stream",
     "text": [
      "  0%|          | 0/347 [00:00<?, ?it/s]"
     ]
    },
    {
     "name": "stdout",
     "output_type": "stream",
     "text": [
      "Epoch 1 :\n"
     ]
    },
    {
     "name": "stderr",
     "output_type": "stream",
     "text": [
      " 10%|▉         | 34/347 [00:09<01:28,  3.53it/s]"
     ]
    },
    {
     "name": "stdout",
     "output_type": "stream",
     "text": [
      "torch.Size([1, 0, 128])\n"
     ]
    },
    {
     "name": "stderr",
     "output_type": "stream",
     "text": [
      " 20%|██        | 71/347 [00:21<01:26,  3.20it/s]"
     ]
    },
    {
     "name": "stdout",
     "output_type": "stream",
     "text": [
      "torch.Size([1, 0, 128])\n"
     ]
    },
    {
     "name": "stderr",
     "output_type": "stream",
     "text": [
      " 28%|██▊       | 96/347 [00:28<01:02,  3.99it/s]"
     ]
    },
    {
     "name": "stdout",
     "output_type": "stream",
     "text": [
      "torch.Size([1, 0, 128])\n"
     ]
    },
    {
     "name": "stderr",
     "output_type": "stream",
     "text": [
      " 39%|███▉      | 136/347 [00:40<00:56,  3.75it/s]"
     ]
    },
    {
     "name": "stdout",
     "output_type": "stream",
     "text": [
      "torch.Size([1, 0, 128])\n"
     ]
    },
    {
     "name": "stderr",
     "output_type": "stream",
     "text": [
      " 46%|████▌     | 159/347 [00:46<01:00,  3.13it/s]"
     ]
    },
    {
     "name": "stdout",
     "output_type": "stream",
     "text": [
      "torch.Size([1, 86, 128])\n"
     ]
    },
    {
     "name": "stderr",
     "output_type": "stream",
     "text": [
      " 48%|████▊     | 167/347 [00:49<00:47,  3.81it/s]"
     ]
    }
   ],
   "source": [
    "model.train()\n",
    "for epoch in range(epochs):\n",
    "    print(\"Epoch\", epoch+1, \":\")\n",
    "    \n",
    "    loss_train = 0.0\n",
    "    n_batches  = 0\n",
    "    errors = 0\n",
    "    # -------- TRAINING ----------\n",
    "    loop = tqdm(train_dataloader, leave = True)\n",
    "    for batch in loop:\n",
    "        # check for invalid entries\n",
    "        n_batches += 1\n",
    "        # reset\n",
    "        optimizer.zero_grad()\n",
    "        \n",
    "        # pull all tensor batches required for training\n",
    "        input_ids = batch[0][0].to(device)\n",
    "        labels    = batch[1][0].float().to(device)\n",
    "        \n",
    "        # pass data through the model\n",
    "        try:\n",
    "            outputs = model(input_ids)\n",
    "        \n",
    "            loss       = lossFunction(outputs, labels)\n",
    "            loss_train += loss.item()\n",
    "            # backpropagate\n",
    "            loss.backward()\n",
    "            # update parameters\n",
    "            optimizer.step()\n",
    "        except:\n",
    "            errors += 1\n",
    "    \n",
    "    scheduler.step()\n",
    "    print(\"Epoch Done! Train Loss: \", loss_train/n_batches)\n",
    "    print(\"Number of Errors: \", errors)"
   ]
  }
 ],
 "metadata": {
  "kernelspec": {
   "display_name": "Python 3",
   "language": "python",
   "name": "python3"
  },
  "language_info": {
   "codemirror_mode": {
    "name": "ipython",
    "version": 3
   },
   "file_extension": ".py",
   "mimetype": "text/x-python",
   "name": "python",
   "nbconvert_exporter": "python",
   "pygments_lexer": "ipython3",
   "version": "3.8.5"
  }
 },
 "nbformat": 4,
 "nbformat_minor": 4
}
